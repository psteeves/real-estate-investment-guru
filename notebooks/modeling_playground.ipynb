{
 "cells": [
  {
   "cell_type": "code",
   "execution_count": null,
   "metadata": {},
   "outputs": [],
   "source": [
    "cd .."
   ]
  },
  {
   "cell_type": "code",
   "execution_count": null,
   "metadata": {},
   "outputs": [],
   "source": [
    "%load_ext autoreload\n",
    "%autoreload 2"
   ]
  },
  {
   "cell_type": "code",
   "execution_count": null,
   "metadata": {},
   "outputs": [],
   "source": [
    "import pandas as pd\n",
    "import os\n",
    "import pickle\n",
    "import sqlalchemy\n",
    "from sklearn.ensemble import RandomForestRegressor\n",
    "\n",
    "from project_real_estate.models.preprocessor import PropertyPreprocessor\n",
    "from project_real_estate.models.rent_estimator import SKLearnRentEstimator"
   ]
  },
  {
   "cell_type": "code",
   "execution_count": null,
   "metadata": {},
   "outputs": [],
   "source": [
    "sql_rentals = \"SELECT * FROM rentals LIMIT 10;\"\n",
    "sql_sales = \"SELECT * FROM sales LIMIT 10;\"\n",
    "uri = os.environ[\"DB_URI\"]\n",
    "\n",
    "engine = sqlalchemy.create_engine(uri)\n",
    "rentals_data = pd.read_sql(sql=sql_rentals, con=engine)\n",
    "sales_data = pd.read_sql(sql=sql_sales, con=engine)"
   ]
  },
  {
   "cell_type": "markdown",
   "metadata": {},
   "source": [
    "# Model"
   ]
  },
  {
   "cell_type": "code",
   "execution_count": null,
   "metadata": {},
   "outputs": [],
   "source": [
    "preprocessor = PropertyPreprocessor()\n",
    "estimator = RandomForestRegressor(n_estimators=10, max_depth=10)\n",
    "model = SKLearnRentEstimator(preprocessor, estimator)"
   ]
  },
  {
   "cell_type": "code",
   "execution_count": null,
   "metadata": {},
   "outputs": [],
   "source": [
    "model.fit(rent_data)"
   ]
  },
  {
   "cell_type": "code",
   "execution_count": null,
   "metadata": {},
   "outputs": [],
   "source": [
    "model.predict(sales_data)"
   ]
  }
 ],
 "metadata": {
  "kernelspec": {
   "display_name": "Python 3",
   "language": "python",
   "name": "python3"
  },
  "language_info": {
   "codemirror_mode": {
    "name": "ipython",
    "version": 3
   },
   "file_extension": ".py",
   "mimetype": "text/x-python",
   "name": "python",
   "nbconvert_exporter": "python",
   "pygments_lexer": "ipython3",
   "version": "3.7.2"
  }
 },
 "nbformat": 4,
 "nbformat_minor": 4
}
