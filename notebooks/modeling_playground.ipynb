{
 "cells": [
  {
   "cell_type": "code",
   "execution_count": null,
   "metadata": {},
   "outputs": [],
   "source": [
    "import pandas as pd\n",
    "from sklearn.linear_model import LinearRegression\n",
    "from sklearn.ensemble import RandomForestRegressor\n",
    "from sklearn.preprocessing import LabelEncoder\n",
    "from sklearn.model_selection import train_test_split"
   ]
  },
  {
   "cell_type": "code",
   "execution_count": null,
   "metadata": {},
   "outputs": [],
   "source": [
    "def convert_non_convertible_strings_to_na(value):\n",
    "    try:\n",
    "        test = int(value)\n",
    "    except:\n",
    "        new_value = \"-1\"\n",
    "    else:\n",
    "        new_value = value\n",
    "    return new_value"
   ]
  },
  {
   "cell_type": "code",
   "execution_count": null,
   "metadata": {},
   "outputs": [],
   "source": [
    "def clean(data):\n",
    "    data[\"Year\"] = data.Year.apply(lambda x: \"\".join(c for c in x if c.isdigit()) if isinstance(x, str) else -1)\n",
    "    data[\"Year\"] = data.Year.apply(lambda x: -1 if not x else int(x))\n",
    "    \n",
    "    # Drop weird values\n",
    "    data[\"Area\"] = data[\"Area\"].fillna(\"-1\")\n",
    "    data[\"Area\"] = data[\"Area\"].apply(lambda x: convert_non_convertible_strings_to_na(x))\n",
    "    data[\"Bedrooms\"] = data[\"Bedrooms\"].fillna(\"-1\")\n",
    "    data[\"Bedrooms\"] = data[\"Bedrooms\"].apply(lambda x: convert_non_convertible_strings_to_na(x))\n",
    "    \n",
    "    # Boolean features\n",
    "    data[\"Extra Features\"] = data[\"Extra Features\"].fillna(\"\").str.lower()\n",
    "    data[\"Elevator\"] = data[\"Extra Features\"].str.contains(\"elevator\")\n",
    "    data[\"Semi-furnished\"] = data[\"Extra Features\"].str.contains(\"semi-furnished\")\n",
    "    data[\"Furnished\"] = data[\"Extra Features\"].str.contains(\"furnished\")  & ~data[\"Extra Features\"].str.contains(\"semi\")\n",
    "    data[\"Waterfront\"] = data[\"Extra Features\"].str.contains(\"water|fleuve|river|canal|lake\")\n",
    "    data[\"Basement\"] = data[\"Extra Features\"].str.contains(\"basement\")\n",
    "    \n",
    "    # Categorical data conversion\n",
    "    data[\"Region\"] = label_encoder.fit_transform(data[\"Region\"])\n",
    "    \n",
    "    # Drop columns\n",
    "    data.drop([\"Extra Features\"], axis=1, inplace=True)\n",
    "    \n",
    "    # Fill na\n",
    "    data.fillna(-1, inplace=True)\n",
    "    return data"
   ]
  },
  {
   "cell_type": "code",
   "execution_count": null,
   "metadata": {},
   "outputs": [],
   "source": [
    "data = pd.read_csv(\"../data/rent.csv\")\n",
    "data = data.loc[:, [\"Region\", \"Year\", \"Extra Features\", \"Area\", \"Bathrooms\", \"Bedrooms\", \"Rent\"]]\n",
    "label_encoder = LabelEncoder()"
   ]
  },
  {
   "cell_type": "code",
   "execution_count": null,
   "metadata": {
    "scrolled": true
   },
   "outputs": [],
   "source": [
    "cleaned_data = clean(data)\n",
    "X = data.loc[:, cleaned_data.columns != \"Rent\"]\n",
    "y = data.Rent\n",
    "\n",
    "X_train, X_test, y_train, y_test = train_test_split(X, y, test_size=0.2, random_state=6)"
   ]
  },
  {
   "cell_type": "code",
   "execution_count": null,
   "metadata": {},
   "outputs": [],
   "source": [
    "estimator = RandomForestRegressor(n_estimators=5, max_depth=5)\n",
    "estimator = LinearRegression(normalize=True)"
   ]
  },
  {
   "cell_type": "code",
   "execution_count": null,
   "metadata": {},
   "outputs": [],
   "source": [
    "estimator.fit(X_train, y_train)\n",
    "estimator.score(X_test, y_test)"
   ]
  }
 ],
 "metadata": {
  "kernelspec": {
   "display_name": "Python 3",
   "language": "python",
   "name": "python3"
  },
  "language_info": {
   "codemirror_mode": {
    "name": "ipython",
    "version": 3
   },
   "file_extension": ".py",
   "mimetype": "text/x-python",
   "name": "python",
   "nbconvert_exporter": "python",
   "pygments_lexer": "ipython3",
   "version": "3.7.2"
  }
 },
 "nbformat": 4,
 "nbformat_minor": 4
}
