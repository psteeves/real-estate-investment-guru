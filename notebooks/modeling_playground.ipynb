{
 "cells": [
  {
   "cell_type": "code",
   "execution_count": null,
   "metadata": {},
   "outputs": [],
   "source": [
    "import pandas as pd\n",
    "import matplotlib.pyplot as plt\n",
    "import os\n",
    "from scipy import stats\n",
    "import numpy as np\n",
    "import sqlalchemy\n",
    "from sklearn.linear_model import LinearRegression\n",
    "from sklearn.ensemble import RandomForestRegressor\n",
    "from sklearn.preprocessing import LabelEncoder\n",
    "from sklearn.model_selection import train_test_split"
   ]
  },
  {
   "cell_type": "code",
   "execution_count": null,
   "metadata": {},
   "outputs": [],
   "source": [
    "sql = \"SELECT * FROM rentals;\"\n",
    "uri = os.environ[\"DB_URI\"]\n",
    "engine = sqlalchemy.create_engine(uri)\n",
    "data = pd.read_sql(sql=sql, con=engine)"
   ]
  },
  {
   "cell_type": "markdown",
   "metadata": {},
   "source": [
    "# Subset data"
   ]
  },
  {
   "cell_type": "code",
   "execution_count": null,
   "metadata": {},
   "outputs": [],
   "source": [
    "allowed_property_types = [\"Condo / Apartment\", \"Loft / Studio\"]\n",
    "numerical_cols = [\"rent\", \"year_built\", \"num_bathrooms\", \"num_bedrooms\", \"area\"]\n",
    "cols_of_interest = numerical_cols + [\"city\", \"neighborhood\"]\n",
    "cleaned_data = data[data.property_type.isin(allowed_property_types)]\n",
    "print(len(cleaned_data))\n",
    "cleaned_data = cleaned_data.loc[:, cols_of_interest]\n",
    "cleaned_data = cleaned_data.dropna()\n",
    "print(len(cleaned_data))\n",
    "cleaned_data = cleaned_data[(np.abs(stats.zscore(cleaned_data.loc[:,numerical_cols])) < 3).all(axis=1)]\n",
    "print(len(cleaned_data))"
   ]
  },
  {
   "cell_type": "markdown",
   "metadata": {},
   "source": [
    "# Prep data"
   ]
  },
  {
   "cell_type": "code",
   "execution_count": null,
   "metadata": {},
   "outputs": [],
   "source": [
    "def extract_neigborhood_from_city(city_name):\n",
    "    city_parts = city_name.split(\"(\")\n",
    "    if len(city_parts) == 1:\n",
    "        return city_parts[0]\n",
    "    else:\n",
    "        return city_parts[1].strip(\")\").strip()"
   ]
  },
  {
   "cell_type": "code",
   "execution_count": null,
   "metadata": {},
   "outputs": [],
   "source": [
    "cleaned_data.neighborhood = cleaned_data.city.apply(lambda x: extract_neigborhood_from_city(x))\n",
    "cleaned_data.city = cleaned_data.city.apply(lambda x: x.split(\"(\")[0].strip())"
   ]
  },
  {
   "cell_type": "code",
   "execution_count": null,
   "metadata": {},
   "outputs": [],
   "source": [
    "label_encoder = LabelEncoder()\n",
    "cleaned_data[\"region\"] = label_encoder.fit_transform(cleaned_data.neighborhood)"
   ]
  },
  {
   "cell_type": "code",
   "execution_count": null,
   "metadata": {
    "scrolled": true
   },
   "outputs": [],
   "source": [
    "features = [\"year_built\", \"num_bathrooms\", \"num_bedrooms\", \"area\", \"region\"]\n",
    "X = cleaned_data.loc[:, features]\n",
    "y = cleaned_data.rent\n",
    "\n",
    "X_train, X_test, y_train, y_test = train_test_split(X, y, test_size=0.15, random_state=100)"
   ]
  },
  {
   "cell_type": "markdown",
   "metadata": {},
   "source": [
    "# Model"
   ]
  },
  {
   "cell_type": "code",
   "execution_count": null,
   "metadata": {},
   "outputs": [],
   "source": [
    "estimator = RandomForestRegressor(n_estimators=10, max_depth=10, bootstrap=True)"
   ]
  },
  {
   "cell_type": "code",
   "execution_count": null,
   "metadata": {},
   "outputs": [],
   "source": [
    "estimator.fit(X_train, y_train)\n",
    "estimator.score(X_test, y_test)"
   ]
  }
 ],
 "metadata": {
  "kernelspec": {
   "display_name": "Python 3",
   "language": "python",
   "name": "python3"
  },
  "language_info": {
   "codemirror_mode": {
    "name": "ipython",
    "version": 3
   },
   "file_extension": ".py",
   "mimetype": "text/x-python",
   "name": "python",
   "nbconvert_exporter": "python",
   "pygments_lexer": "ipython3",
   "version": "3.7.2"
  }
 },
 "nbformat": 4,
 "nbformat_minor": 4
}
